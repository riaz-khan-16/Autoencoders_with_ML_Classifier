{
  "cells": [
    {
      "cell_type": "code",
      "execution_count": null,
      "metadata": {
        "id": "r62yz2Yv1BC1"
      },
      "outputs": [],
      "source": [
        "#Importing the Libraries\n",
        "from sklearn.datasets import make_classification\n",
        "from sklearn.datasets import make_classification\n",
        "from sklearn.preprocessing import MinMaxScaler\n",
        "from sklearn.model_selection import train_test_split\n",
        "from tensorflow.keras.layers import LeakyReLU\n",
        "from tensorflow.keras.models import Model\n",
        "from tensorflow.keras.layers import Input\n",
        "from tensorflow.keras.layers import Dense\n",
        "from tensorflow.keras.layers import BatchNormalization\n",
        "from tensorflow.keras.models import load_model\n",
        "import pandas as pd\n",
        "import numpy as np\n",
        "import matplotlib.pyplot as plt\n",
        "import seaborn as sns\n",
        "import pandas as pd\n",
        "import numpy as np\n",
        "import matplotlib.pyplot as plt\n",
        "import seaborn as sns\n",
        "import keras"
      ]
    },
    {
      "cell_type": "code",
      "execution_count": null,
      "metadata": {
        "id": "BLt3LBn672hK"
      },
      "outputs": [],
      "source": [
        "from google.colab import files\n",
        "files.upload()"
      ]
    },
    {
      "cell_type": "code",
      "execution_count": null,
      "metadata": {
        "id": "9cHZ6dIw8xkD"
      },
      "outputs": [],
      "source": [
        "import pandas as pd"
      ]
    },
    {
      "cell_type": "code",
      "execution_count": null,
      "metadata": {
        "id": "Jf1FdQu2k1Ic"
      },
      "outputs": [],
      "source": [
        "df=pd.read_csv('3.csv')"
      ]
    },
    {
      "cell_type": "code",
      "execution_count": null,
      "metadata": {
        "colab": {
          "base_uri": "https://localhost:8080/"
        },
        "id": "OCjhivdC682N",
        "outputId": "ef976ebe-3b25-43ba-e8a5-fe62eed151ac"
      },
      "outputs": [
        {
          "output_type": "stream",
          "name": "stdout",
          "text": [
            "        H2  CH4  C2H6  C2H4  C2H2   CO   CO2  BDV  IFT  Acid No  ...  \\\n",
            "0    123.0  199    96    89     4  631  2710   45   24     0.10  ...   \n",
            "1    126.0  189    91    86     6  620  2720   41   23     0.09  ...   \n",
            "2    125.0  188    92    83     6  680  2730   42   24     0.06  ...   \n",
            "3    430.0  299   114   123    20  750  4700   38   19     0.11  ...   \n",
            "4    440.0  244   115   124    21  752  4600   39   19     0.11  ...   \n",
            "..     ...  ...   ...   ...   ...  ...   ...  ...  ...      ...  ...   \n",
            "603    2.8  189   107    96    26  356  4856   43   20     0.09  ...   \n",
            "604    2.9  188   108    98    31  388  4863   44   20     0.09  ...   \n",
            "605    2.9  178   110    93    33  396  4236   45   19     0.10  ...   \n",
            "606    2.9  156   109    96    32  375  4852   41   20     0.10  ...   \n",
            "607    2.7  158   106    86     8  699  3311   42   20     0.10  ...   \n",
            "\n",
            "     Conductivity Factor  Maintainance History  Age in Years  Load History  \\\n",
            "0                  1.387                   1.5          13.0          3.40   \n",
            "1                  1.360                   1.5          15.0          3.44   \n",
            "2                  1.390                   1.5          16.0          3.24   \n",
            "3                  1.250                   3.5          25.0          1.89   \n",
            "4                  1.210                   3.5          25.0          1.89   \n",
            "..                   ...                   ...           ...           ...   \n",
            "603                1.380                   3.4          13.0          1.78   \n",
            "604                1.330                   3.5          15.0          1.70   \n",
            "605                1.350                   3.5          16.0          1.70   \n",
            "606                1.340                   3.9           6.0          1.70   \n",
            "607                1.380                   3.4           7.0          2.01   \n",
            "\n",
            "     Operation Per Month  DGAF of LTC  Health Index  Category-6  Category-10  \\\n",
            "0                     17         1.10         0.800           2            3   \n",
            "1                     14         1.30         0.746           2            3   \n",
            "2                     15         1.30         0.746           2            3   \n",
            "3                     25         1.86         0.500           4            6   \n",
            "4                     15         1.86         0.540           3            5   \n",
            "..                   ...          ...           ...         ...          ...   \n",
            "603                   15         1.66         0.630           3            4   \n",
            "604                   11         1.86         0.630           3            4   \n",
            "605                   16         1.86         0.630           3            4   \n",
            "606                   18         1.64         0.630           3            4   \n",
            "607                   13         1.63         0.630           3            4   \n",
            "\n",
            "          Category  \n",
            "0             Good  \n",
            "1             Good  \n",
            "2             Good  \n",
            "3    Semi Moderate  \n",
            "4         Moderate  \n",
            "..             ...  \n",
            "603       Moderate  \n",
            "604       Moderate  \n",
            "605       Moderate  \n",
            "606       Moderate  \n",
            "607       Moderate  \n",
            "\n",
            "[608 rows x 35 columns]\n"
          ]
        }
      ],
      "source": [
        "df = df.dropna()\n",
        "print(df)"
      ]
    },
    {
      "cell_type": "code",
      "execution_count": null,
      "metadata": {
        "colab": {
          "base_uri": "https://localhost:8080/"
        },
        "id": "05LW5ujalLVM",
        "outputId": "b8d0725e-23c0-4868-db56-064c7996df99"
      },
      "outputs": [
        {
          "output_type": "execute_result",
          "data": {
            "text/plain": [
              "H2                                   0\n",
              "CH4                                  0\n",
              "C2H6                                 0\n",
              "C2H4                                 0\n",
              "C2H2                                 0\n",
              "CO                                   0\n",
              "CO2                                  0\n",
              "BDV                                  0\n",
              "IFT                                  0\n",
              "Acid No                              0\n",
              "Water Content                        0\n",
              "Oil Color                            0\n",
              "Dissipation Factor                   0\n",
              "Turns Ratio Deviation                0\n",
              "Winding Resistance Deviation         0\n",
              "Power Factor                         0\n",
              "Winding Temparature Rise             0\n",
              "Top Oil Temparature Rise             0\n",
              "Short Circuit Impedence              0\n",
              "Insulating Resistance                0\n",
              "Furan Content                        0\n",
              "Polarization Index                   0\n",
              "Exitation Current                    0\n",
              "Frequency Domain Spectrocopy         0\n",
              "Sweep Frequency Response Analysis    0\n",
              "Conductivity Factor                  0\n",
              "Maintainance History                 0\n",
              "Age in Years                         0\n",
              "Load History                         0\n",
              "Operation Per Month                  0\n",
              "DGAF of LTC                          0\n",
              "Health Index                         0\n",
              "Category-6                           0\n",
              "Category-10                          0\n",
              "Category                             0\n",
              "dtype: int64"
            ]
          },
          "metadata": {},
          "execution_count": 7
        }
      ],
      "source": [
        "df.isnull().sum()"
      ]
    },
    {
      "cell_type": "code",
      "execution_count": null,
      "metadata": {
        "colab": {
          "background_save": true
        },
        "id": "1w0ac_UFsE3z"
      },
      "outputs": [],
      "source": []
    },
    {
      "cell_type": "code",
      "execution_count": null,
      "metadata": {
        "colab": {
          "background_save": true
        },
        "id": "F59kFY9uDfi6"
      },
      "outputs": [],
      "source": [
        "df"
      ]
    },
    {
      "cell_type": "code",
      "execution_count": null,
      "metadata": {
        "colab": {
          "background_save": true
        },
        "id": "9x9kphQrvs1r"
      },
      "outputs": [],
      "source": []
    },
    {
      "cell_type": "code",
      "execution_count": null,
      "metadata": {
        "colab": {
          "background_save": true
        },
        "id": "s1lJ6xUexDMy"
      },
      "outputs": [],
      "source": []
    },
    {
      "cell_type": "code",
      "execution_count": null,
      "metadata": {
        "id": "zjiBSxcvwHPR"
      },
      "outputs": [],
      "source": []
    },
    {
      "cell_type": "code",
      "execution_count": null,
      "metadata": {
        "id": "GYqYO2d38b-7"
      },
      "outputs": [],
      "source": []
    },
    {
      "cell_type": "code",
      "execution_count": null,
      "metadata": {
        "colab": {
          "background_save": true
        },
        "id": "LVw6abFDG2z6"
      },
      "outputs": [],
      "source": []
    },
    {
      "cell_type": "code",
      "execution_count": null,
      "metadata": {
        "colab": {
          "background_save": true
        },
        "id": "Ln8kmO7CPC_u"
      },
      "outputs": [],
      "source": []
    },
    {
      "cell_type": "code",
      "execution_count": null,
      "metadata": {
        "colab": {
          "background_save": true
        },
        "id": "1leWUGl5QHUL"
      },
      "outputs": [],
      "source": []
    },
    {
      "cell_type": "code",
      "execution_count": null,
      "metadata": {
        "colab": {
          "background_save": true
        },
        "id": "vNJiAn9pf8ap"
      },
      "outputs": [],
      "source": []
    },
    {
      "cell_type": "code",
      "execution_count": null,
      "metadata": {
        "colab": {
          "background_save": true
        },
        "id": "srQImLHEhOQC"
      },
      "outputs": [],
      "source": []
    },
    {
      "cell_type": "code",
      "execution_count": null,
      "metadata": {
        "id": "qAYZTl3egGpy"
      },
      "outputs": [],
      "source": [
        "X=df.drop(['Category-10','Category'],axis=1)\n",
        "y=df['Category-10']"
      ]
    },
    {
      "cell_type": "code",
      "execution_count": null,
      "metadata": {
        "colab": {
          "background_save": true
        },
        "id": "96tOZblQf2w-"
      },
      "outputs": [],
      "source": [
        "\n"
      ]
    },
    {
      "cell_type": "code",
      "execution_count": null,
      "metadata": {
        "colab": {
          "background_save": true
        },
        "id": "-TCnkkzzf6hu"
      },
      "outputs": [],
      "source": []
    },
    {
      "cell_type": "code",
      "execution_count": null,
      "metadata": {
        "colab": {
          "background_save": true
        },
        "id": "69gJDQuClP1h"
      },
      "outputs": [],
      "source": []
    },
    {
      "cell_type": "code",
      "execution_count": null,
      "metadata": {
        "colab": {
          "background_save": true
        },
        "id": "p3iRdGy_1KFJ"
      },
      "outputs": [],
      "source": []
    },
    {
      "cell_type": "code",
      "execution_count": null,
      "metadata": {
        "id": "g7hzzf2v1bKe"
      },
      "outputs": [],
      "source": [
        "# split into train test sets\n",
        "X_train, X_test, y_train, y_test = train_test_split(X, y, test_size=0.33, random_state=1)\n",
        "# scale data\n",
        "t = MinMaxScaler()\n",
        "t.fit(X_train)\n",
        "X_train = t.transform(X_train)\n",
        "X_test = t.transform(X_test)"
      ]
    },
    {
      "cell_type": "code",
      "execution_count": null,
      "metadata": {
        "id": "vHvGk5ut1iW0"
      },
      "outputs": [],
      "source": [
        "# AutoEncoder Model Preparation\n",
        "n_inputs = X.shape[1]\n",
        "# define encoder\n",
        "input_data_shape= Input(shape=(n_inputs,))\n",
        "# encoder level 1\n",
        "encoder= Dense(n_inputs*2)(input_data_shape)\n",
        "encoder = BatchNormalization()(encoder)\n",
        "encoder= LeakyReLU()(encoder)\n",
        "# encoder level 2\n",
        "encoder= Dense(n_inputs)(encoder)\n",
        "encoder= BatchNormalization()(encoder)\n",
        "encoder= LeakyReLU()(encoder)\n",
        "# bottleneck\n",
        "n_bottleneck = round(float(n_inputs) / 2.0)\n",
        "bottleneck = Dense(n_bottleneck)(encoder)\n",
        "# define decoder, level 1\n",
        "decoder = Dense(n_inputs)(bottleneck)\n",
        "decoder = BatchNormalization()(decoder)\n",
        "decoder = LeakyReLU()(decoder)\n",
        "# decoder level 2\n",
        "decoder = Dense(n_inputs*2)(decoder)\n",
        "decoder = BatchNormalization()(decoder)\n",
        "decoder = LeakyReLU()(decoder)"
      ]
    },
    {
      "cell_type": "code",
      "execution_count": null,
      "metadata": {
        "id": "T4CH3GlE1pNB",
        "colab": {
          "base_uri": "https://localhost:8080/",
          "height": 200
        },
        "outputId": "a0aad77f-4b04-4d5a-bf04-11cfd3d4fbf2"
      },
      "outputs": [
        {
          "output_type": "error",
          "ename": "NameError",
          "evalue": "ignored",
          "traceback": [
            "\u001b[0;31m---------------------------------------------------------------------------\u001b[0m",
            "\u001b[0;31mNameError\u001b[0m                                 Traceback (most recent call last)",
            "\u001b[0;32m<ipython-input-28-cd6215ca1a4e>\u001b[0m in \u001b[0;36m<module>\u001b[0;34m()\u001b[0m\n\u001b[1;32m      6\u001b[0m \u001b[0mmodel\u001b[0m\u001b[0;34m.\u001b[0m\u001b[0mcompile\u001b[0m\u001b[0;34m(\u001b[0m\u001b[0moptimizer\u001b[0m\u001b[0;34m=\u001b[0m\u001b[0;34m'adam'\u001b[0m\u001b[0;34m,\u001b[0m \u001b[0mloss\u001b[0m\u001b[0;34m=\u001b[0m\u001b[0;34m'mse'\u001b[0m\u001b[0;34m)\u001b[0m\u001b[0;34m\u001b[0m\u001b[0;34m\u001b[0m\u001b[0m\n\u001b[1;32m      7\u001b[0m \u001b[0;31m# plot the autoencoder\u001b[0m\u001b[0;34m\u001b[0m\u001b[0;34m\u001b[0m\u001b[0;34m\u001b[0m\u001b[0m\n\u001b[0;32m----> 8\u001b[0;31m \u001b[0mplot_model\u001b[0m\u001b[0;34m(\u001b[0m\u001b[0mmodel\u001b[0m\u001b[0;34m,\u001b[0m \u001b[0;34m'autoencoder_no_compress.png'\u001b[0m\u001b[0;34m,\u001b[0m \u001b[0mshow_shapes\u001b[0m\u001b[0;34m=\u001b[0m\u001b[0;32mTrue\u001b[0m\u001b[0;34m)\u001b[0m\u001b[0;34m\u001b[0m\u001b[0;34m\u001b[0m\u001b[0m\n\u001b[0m",
            "\u001b[0;31mNameError\u001b[0m: name 'plot_model' is not defined"
          ]
        }
      ],
      "source": [
        "# output layer\n",
        "output = Dense(n_inputs, activation='linear')(decoder)\n",
        "# define autoencoder model\n",
        "model = Model(inputs=input_data_shape, outputs=output)\n",
        "# compile autoencoder model\n",
        "model.compile(optimizer='adam', loss='mse')\n",
        "# plot the autoencoder\n",
        "plot_model(model, 'autoencoder_no_compress.png', show_shapes=True)"
      ]
    },
    {
      "cell_type": "code",
      "execution_count": null,
      "metadata": {
        "colab": {
          "base_uri": "https://localhost:8080/"
        },
        "id": "4X5WN0W-1vIa",
        "outputId": "fd3cd4c9-63ef-41ac-e87c-03fe2eec351d"
      },
      "outputs": [
        {
          "output_type": "stream",
          "name": "stdout",
          "text": [
            "Model: \"model\"\n",
            "_________________________________________________________________\n",
            " Layer (type)                Output Shape              Param #   \n",
            "=================================================================\n",
            " input_1 (InputLayer)        [(None, 33)]              0         \n",
            "                                                                 \n",
            " dense (Dense)               (None, 66)                2244      \n",
            "                                                                 \n",
            " batch_normalization (BatchN  (None, 66)               264       \n",
            " ormalization)                                                   \n",
            "                                                                 \n",
            " leaky_re_lu (LeakyReLU)     (None, 66)                0         \n",
            "                                                                 \n",
            " dense_1 (Dense)             (None, 33)                2211      \n",
            "                                                                 \n",
            " batch_normalization_1 (Batc  (None, 33)               132       \n",
            " hNormalization)                                                 \n",
            "                                                                 \n",
            " leaky_re_lu_1 (LeakyReLU)   (None, 33)                0         \n",
            "                                                                 \n",
            " dense_2 (Dense)             (None, 16)                544       \n",
            "                                                                 \n",
            " dense_3 (Dense)             (None, 33)                561       \n",
            "                                                                 \n",
            " batch_normalization_2 (Batc  (None, 33)               132       \n",
            " hNormalization)                                                 \n",
            "                                                                 \n",
            " leaky_re_lu_2 (LeakyReLU)   (None, 33)                0         \n",
            "                                                                 \n",
            " dense_4 (Dense)             (None, 66)                2244      \n",
            "                                                                 \n",
            " batch_normalization_3 (Batc  (None, 66)               264       \n",
            " hNormalization)                                                 \n",
            "                                                                 \n",
            " leaky_re_lu_3 (LeakyReLU)   (None, 66)                0         \n",
            "                                                                 \n",
            " dense_5 (Dense)             (None, 33)                2211      \n",
            "                                                                 \n",
            "=================================================================\n",
            "Total params: 10,807\n",
            "Trainable params: 10,411\n",
            "Non-trainable params: 396\n",
            "_________________________________________________________________\n"
          ]
        }
      ],
      "source": [
        "model.summary()"
      ]
    },
    {
      "cell_type": "code",
      "execution_count": null,
      "metadata": {
        "colab": {
          "background_save": true
        },
        "id": "Kb3lDvd37hht"
      },
      "outputs": [],
      "source": []
    },
    {
      "cell_type": "code",
      "execution_count": null,
      "metadata": {
        "colab": {
          "background_save": true
        },
        "id": "9EbWhqE77OVR"
      },
      "outputs": [],
      "source": [
        "\n"
      ]
    },
    {
      "cell_type": "code",
      "execution_count": null,
      "metadata": {
        "colab": {
          "background_save": true
        },
        "id": "tZSUad7-6ZjH"
      },
      "outputs": [],
      "source": []
    },
    {
      "cell_type": "code",
      "execution_count": null,
      "metadata": {
        "id": "nGgth8EY14GF"
      },
      "outputs": [],
      "source": [
        "history = model.fit(X_train, y_train, epochs=1000, batch_size=16, verbose=2, validation_data=(X_test,y_test))"
      ]
    },
    {
      "cell_type": "code",
      "execution_count": null,
      "metadata": {
        "colab": {
          "background_save": true
        },
        "id": "59e7NfGz7MXl"
      },
      "outputs": [],
      "source": []
    },
    {
      "cell_type": "code",
      "execution_count": null,
      "metadata": {
        "colab": {
          "base_uri": "https://localhost:8080/"
        },
        "id": "m2td52ad3TqR",
        "outputId": "ac5eab93-928b-4bb0-e385-e9974cdeadb7"
      },
      "outputs": [
        {
          "output_type": "stream",
          "name": "stdout",
          "text": [
            "WARNING:tensorflow:Compiled the loaded model, but the compiled metrics have yet to be built. `model.compile_metrics` will be empty until you train or evaluate the model.\n"
          ]
        }
      ],
      "source": [
        "# define an encoder model (without the decoder)\n",
        "encoder = Model(inputs=input_data_shape, outputs=bottleneck)\n",
        "# save the encoder to file\n",
        "encoder.save('encoder.h5')"
      ]
    },
    {
      "cell_type": "code",
      "execution_count": null,
      "metadata": {
        "colab": {
          "base_uri": "https://localhost:8080/",
          "height": 265
        },
        "id": "i8Hl_Lvo5hNj",
        "outputId": "addae3ce-460c-4c2c-b1a9-f2534409b345"
      },
      "outputs": [
        {
          "output_type": "display_data",
          "data": {
            "text/plain": [
              "<Figure size 432x288 with 1 Axes>"
            ],
            "image/png": "[encoded data removed]"
          },
          "metadata": {
            "needs_background": "light"
          }
        }
      ],
      "source": [
        "# plot loss\n",
        "import matplotlib.pyplot as pyplot\n",
        "pyplot.plot(history.history['loss'], label='train')\n",
        "pyplot.plot(history.history['val_loss'], label='test')\n",
        "pyplot.legend()\n",
        "pyplot.show()"
      ]
    },
    {
      "cell_type": "code",
      "source": [
        "#Importing the Libraries\n",
        "from sklearn.datasets import make_classification\n",
        "from sklearn.datasets import make_classification\n",
        "from sklearn.preprocessing import MinMaxScaler\n",
        "from sklearn.model_selection import train_test_split\n",
        "from tensorflow.keras.layers import LeakyReLU\n",
        "from tensorflow.keras.models import Model\n",
        "from tensorflow.keras.layers import Input\n",
        "from tensorflow.keras.layers import Dense\n",
        "from tensorflow.keras.layers import BatchNormalization\n",
        "from tensorflow.keras.models import load_model\n",
        "import pandas as pd\n",
        "import numpy as np"
      ],
      "metadata": {
        "id": "7HrDVEbt68_Q"
      },
      "execution_count": null,
      "outputs": []
    },
    {
      "cell_type": "code",
      "source": [
        "from sklearn.svm import SVC\n",
        "model=SVC()\n",
        "model.fit(X_train,y_train)\n",
        "model.score(X_test,y_test)"
      ],
      "metadata": {
        "colab": {
          "base_uri": "https://localhost:8080/"
        },
        "id": "ewU1F4aS7C38",
        "outputId": "fdd43f7e-9d9f-46f3-cfff-a20f2a2c958e"
      },
      "execution_count": null,
      "outputs": [
        {
          "output_type": "execute_result",
          "data": {
            "text/plain": [
              "0.8955223880597015"
            ]
          },
          "metadata": {},
          "execution_count": 17
        }
      ]
    },
    {
      "cell_type": "code",
      "execution_count": null,
      "metadata": {
        "id": "SMhBu1Bi3hF5"
      },
      "outputs": [],
      "source": [
        "#Building a Base Model to compare the performance after compressing the data using Encoder model.\n",
        "import numpy as np\n",
        "import pandas as pd\n",
        "import matplotlib.pyplot as plt\n",
        "from matplotlib.axes._axes import _log as matplotlib_axes_logger\n",
        "from mpl_toolkits import mplot3d\n",
        "from sklearn.model_selection import train_test_split\n",
        "from sklearn.svm import SVC\n",
        "from matplotlib.colors import ListedColormap\n",
        "from sklearn.metrics import accuracy_score\n",
        "t = MinMaxScaler()\n",
        "t.fit(X_train)\n",
        "X_train = t.transform(X_train)\n",
        "X_test = t.transform(X_test)"
      ]
    },
    {
      "cell_type": "code",
      "execution_count": null,
      "metadata": {
        "id": "Fr-s1K31txpH"
      },
      "outputs": [],
      "source": []
    },
    {
      "cell_type": "code",
      "execution_count": null,
      "metadata": {
        "colab": {
          "base_uri": "https://localhost:8080/"
        },
        "id": "auJeqDWC3svV",
        "outputId": "c3c76219-7d25-4ed7-cba9-8722da749318"
      },
      "outputs": [
        {
          "output_type": "stream",
          "name": "stdout",
          "text": [
            "WARNING:tensorflow:No training configuration found in the save file, so the model was *not* compiled. Compile it manually.\n",
            "0.9800995024875622\n"
          ]
        }
      ],
      "source": [
        "#Compressing the input data using Encoder Model and fitting it on the Logistic Regression model.\n",
        "# load the model from file\n",
        "encoder = load_model('encoder.h5')\n",
        "\n",
        "# encode the train data\n",
        "X_train_encode = encoder.predict(X_train)\n",
        "# encode the test data\n",
        "X_test_encode = encoder.predict(X_test)\n",
        "# define the model\n",
        "model = SVC(max_iter=1000)\n",
        "# fit the model on the training set\n",
        "model.fit(X_train_encode, y_train)\n",
        "# make predictions on the test set\n",
        "yhat = model.predict(X_test_encode)\n",
        "# calculate classification accuracy\n",
        "acc = accuracy_score(y_test, yhat)\n",
        "print(acc)"
      ]
    },
    {
      "cell_type": "code",
      "source": [
        "#We use Support Vector classifier as a classifier\n",
        "from sklearn.svm import SVC\n",
        "from sklearn.metrics import confusion_matrix"
      ],
      "metadata": {
        "id": "cJ8ZM5kgiSxw"
      },
      "execution_count": null,
      "outputs": []
    },
    {
      "cell_type": "code",
      "source": [
        "model.predict(X_test_encode)"
      ],
      "metadata": {
        "colab": {
          "base_uri": "https://localhost:8080/"
        },
        "id": "tGkA9AnTjWhu",
        "outputId": "f0087364-fe91-49c7-dee5-2b093a35363a"
      },
      "execution_count": null,
      "outputs": [
        {
          "output_type": "execute_result",
          "data": {
            "text/plain": [
              "array([ 8,  6,  5,  5,  8,  4,  5,  4,  5, 10,  5,  3, 10,  6,  1,  1, 10,\n",
              "        6,  5,  8,  4,  1, 10, 10,  6,  4,  3,  3,  4,  4,  4,  3,  4,  5,\n",
              "        4,  4,  3,  6,  8,  4,  5,  4,  5,  8,  5,  3,  4,  8,  8,  5,  5,\n",
              "        3,  8,  4, 10,  4,  1,  3,  4,  5,  4,  5,  4,  8,  4,  8,  4,  3,\n",
              "        6,  5,  4,  4,  5,  4,  4,  4,  4,  3, 10,  1,  4,  5,  5,  1,  3,\n",
              "       10,  8,  4,  5,  4,  9,  3,  5,  4, 10,  5,  4,  5,  6, 10,  6,  5,\n",
              "        5,  4, 10,  5,  4,  5,  1,  4,  4,  4,  8,  1, 10,  3,  4,  4,  4,\n",
              "        5,  6,  7,  5, 10,  5,  3,  4, 10,  4, 10,  8,  1,  3, 10,  4,  9,\n",
              "        5,  4,  4,  3,  4,  1,  8, 10,  4,  4, 10,  4,  4,  8,  5,  9, 10,\n",
              "        6,  3,  1, 10,  5,  4,  5,  4,  5,  4,  5,  6,  5,  5,  1,  3, 10,\n",
              "        5,  8,  5,  8,  4,  4, 10, 10,  4,  5, 10,  5,  4,  5,  9,  9,  4,\n",
              "        4,  3,  6,  5,  8, 10, 10,  6,  4,  9,  4,  3, 10,  8])"
            ]
          },
          "metadata": {},
          "execution_count": 20
        }
      ]
    },
    {
      "cell_type": "code",
      "source": [
        "#Testing the model using X_test and storing the output in y_pred\n",
        "y_pred = model.predict(X_test_encode)"
      ],
      "metadata": {
        "id": "6dinji40jiBB"
      },
      "execution_count": null,
      "outputs": []
    },
    {
      "cell_type": "code",
      "source": [
        "# Creating  a confusion matrix,which compares the y_test and y_pred\n",
        "#We use Support Vector classifier as a classifier\n",
        "from sklearn.svm import SVC\n",
        "from sklearn.metrics import confusion_matrix\n",
        "cm = confusion_matrix(y_test, yhat)"
      ],
      "metadata": {
        "id": "b_QeT9YzjrEY"
      },
      "execution_count": null,
      "outputs": []
    },
    {
      "cell_type": "code",
      "source": [
        "# Creating a dataframe for a array-formatted Confusion matrix,so it will be easy for plotting.\n",
        "cm_df = pd.DataFrame(cm,\n",
        "                     index = ['3','5','2','1','4','6','7','8','9'], \n",
        "                     columns = ['3','5','2','1','4','6','7','8','9'])"
      ],
      "metadata": {
        "id": "PPDGg_JCj-vc"
      },
      "execution_count": null,
      "outputs": []
    },
    {
      "cell_type": "code",
      "source": [
        "#Plotting the confusion matrix\n",
        "plt.figure(figsize=(5,4))\n",
        "sns.heatmap(cm_df, annot=True)\n",
        "plt.title('Confusion Matrix')\n",
        "plt.ylabel('Actual Values')\n",
        "plt.xlabel('Predicted Values')\n",
        "plt.show()"
      ],
      "metadata": {
        "colab": {
          "base_uri": "https://localhost:8080/",
          "height": 295
        },
        "id": "G9pqJ6cKkVAA",
        "outputId": "ac33bf78-3926-4e3e-be83-115ad04ced4b"
      },
      "execution_count": null,
      "outputs": [
        {
          "output_type": "display_data",
          "data": {
            "text/plain": [
              "<Figure size 360x288 with 2 Axes>"
            ],
            "image/png": "[encoded data removed]"
          },
          "metadata": {
            "needs_background": "light"
          }
        }
      ]
    },
    {
      "cell_type": "code",
      "source": [],
      "metadata": {
        "id": "IwoP92FKjGM6"
      },
      "execution_count": null,
      "outputs": []
    },
    {
      "cell_type": "code",
      "execution_count": null,
      "metadata": {
        "colab": {
          "background_save": true
        },
        "id": "gWAUIAdb9Qks"
      },
      "outputs": [],
      "source": []
    }
  ],
  "metadata": {
    "colab": {
      "provenance": []
    },
    "kernelspec": {
      "display_name": "Python 3",
      "name": "python3"
    },
    "language_info": {
      "name": "python"
    }
  },
  "nbformat": 4,
  "nbformat_minor": 0
}